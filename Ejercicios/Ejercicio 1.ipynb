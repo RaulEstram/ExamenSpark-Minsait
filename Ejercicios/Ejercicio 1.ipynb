{
 "cells": [
  {
   "cell_type": "markdown",
   "id": "b0e99c88",
   "metadata": {},
   "source": [
    "# Ejercicio 1\n",
    "\n",
    "\n",
    "1. Crea un rdd llamado nameRDD a partir de la siguiente lista de nombres:\n",
    "    * Namelist = [\"Hugo\",\"Erick\",\"Biel\",\"Antonio\",\"Manuel\",\"Francisco\", \"Eduardo\",\"Daniel\",\"Juan\",\"Lucía\",\"María\",\"Martina\",\"Sofía\",\"Emma\",\"Julia\", \"Daniela\",\"Carla\",\"Alma\",\"Olivia\",\"Vega\",\"Lola\",\"Valentina\"]\n",
    "2. Crea un rdd llamado anotherRDD a partir de nameRDD cuya salida sea:\n",
    "    * Nombre+ \"2nd\" -> [\"Hugo2nd\",\"Erick2nd\",\"Biel2nd\"....\"Valentina2nd\"]\n",
    "3. Crea un pair rdd llamado pairRDD a partir de nameRDD usando un map cuya salida sea:\n",
    "    * (Nombre, 20) -> [(\"Hugo\",20),(\"Erick\",20),(\"Biel\",20)....(\"Valentina\",20)]"
   ]
  },
  {
   "cell_type": "markdown",
   "id": "32a22772",
   "metadata": {},
   "source": [
    "## Importaciones y creacion se SparkSession y SparkContext"
   ]
  },
  {
   "cell_type": "code",
   "execution_count": 4,
   "id": "56531bb8",
   "metadata": {},
   "outputs": [],
   "source": [
    "import findspark\n",
    "findspark.init()\n",
    "\n",
    "import pandas as pd\n",
    "import pyspark\n",
    "from pyspark.sql import SparkSession\n",
    "\n",
    "spark = SparkSession.builder.getOrCreate()\n",
    "sc = spark.sparkContext"
   ]
  },
  {
   "cell_type": "markdown",
   "id": "e69f2a86",
   "metadata": {},
   "source": [
    "## Punto #1\n",
    "\n",
    "Crea un rdd llamado nameRDD a partir de la siguiente lista de nombres:\n",
    "* Namelist = [\"Hugo\",\"Erick\",\"Biel\",\"Antonio\",\"Manuel\",\"Francisco\", \"Eduardo\",\"Daniel\",\"Juan\",\"Lucía\",\"María\",\"Martina\",\"Sofía\",\"Emma\",\"Julia\", \"Daniela\",\"Carla\",\"Alma\",\"Olivia\",\"Vega\",\"Lola\",\"Valentina\"]"
   ]
  },
  {
   "cell_type": "code",
   "execution_count": 10,
   "id": "26106dd0",
   "metadata": {},
   "outputs": [],
   "source": [
    "Namelist =  [\"Hugo\",\"Erick\",\"Biel\",\"Antonio\",\"Manuel\",\"Francisco\", \"Eduardo\",\"Daniel\",\"Juan\",\"Lucía\",\"María\",\"Martina\",\"Sofía\",\"Emma\",\"Julia\", \"Daniela\",\"Carla\",\"Alma\",\"Olivia\",\"Vega\",\"Lola\",\"Valentina\"]\n",
    "\n",
    "nameRDD = sc.parallelize(Namelist)"
   ]
  },
  {
   "cell_type": "markdown",
   "id": "9a9ca2fe",
   "metadata": {},
   "source": [
    "## Punto #2\n",
    "Crea un rdd llamado anotherRDD a partir de nameRDD cuya salida sea:\n",
    "* Nombre+ \"2nd\" -> [\"Hugo2nd\",\"Erick2nd\",\"Biel2nd\"....\"Valentina2nd\"]"
   ]
  },
  {
   "cell_type": "code",
   "execution_count": 7,
   "id": "3c84ee30",
   "metadata": {},
   "outputs": [
    {
     "data": {
      "text/plain": [
       "['Hugo2nd',\n",
       " 'Erick2nd',\n",
       " 'Biel2nd',\n",
       " 'Antonio2nd',\n",
       " 'Manuel2nd',\n",
       " 'Francisco2nd',\n",
       " 'Eduardo2nd',\n",
       " 'Daniel2nd',\n",
       " 'Juan2nd',\n",
       " 'Lucía2nd',\n",
       " 'María2nd',\n",
       " 'Martina2nd',\n",
       " 'Sofía2nd',\n",
       " 'Emma2nd',\n",
       " 'Julia2nd',\n",
       " 'Daniela2nd',\n",
       " 'Carla2nd',\n",
       " 'Alma2nd',\n",
       " 'Olivia2nd',\n",
       " 'Vega2nd',\n",
       " 'Lola2nd',\n",
       " 'Valentina2nd']"
      ]
     },
     "execution_count": 7,
     "metadata": {},
     "output_type": "execute_result"
    }
   ],
   "source": [
    "anotherRDD = nameRDD.map(lambda name: name + \"2nd\")\n",
    "anotherRDD.collect()"
   ]
  },
  {
   "cell_type": "markdown",
   "id": "d4880353",
   "metadata": {},
   "source": [
    "\n",
    "\n",
    "\n",
    "## Punto # 3\n",
    "Crea un pair rdd llamado pairRDD a partir de nameRDD usando un map cuya salida sea:\n",
    "* (Nombre, 20) -> [(\"Hugo\",20),(\"Erick\",20),(\"Biel\",20)....(\"Valentina\",20)]"
   ]
  },
  {
   "cell_type": "code",
   "execution_count": 9,
   "id": "2f552bcf",
   "metadata": {},
   "outputs": [
    {
     "data": {
      "text/plain": [
       "[('Hugo', 20),\n",
       " ('Erick', 20),\n",
       " ('Biel', 20),\n",
       " ('Antonio', 20),\n",
       " ('Manuel', 20),\n",
       " ('Francisco', 20),\n",
       " ('Eduardo', 20),\n",
       " ('Daniel', 20),\n",
       " ('Juan', 20),\n",
       " ('Lucía', 20),\n",
       " ('María', 20),\n",
       " ('Martina', 20),\n",
       " ('Sofía', 20),\n",
       " ('Emma', 20),\n",
       " ('Julia', 20),\n",
       " ('Daniela', 20),\n",
       " ('Carla', 20),\n",
       " ('Alma', 20),\n",
       " ('Olivia', 20),\n",
       " ('Vega', 20),\n",
       " ('Lola', 20),\n",
       " ('Valentina', 20)]"
      ]
     },
     "execution_count": 9,
     "metadata": {},
     "output_type": "execute_result"
    }
   ],
   "source": [
    "pairRDD = nameRDD.map(lambda name: (name, 20))\n",
    "pairRDD.collect()"
   ]
  }
 ],
 "metadata": {
  "kernelspec": {
   "display_name": "Python 3 (ipykernel)",
   "language": "python",
   "name": "python3"
  },
  "language_info": {
   "codemirror_mode": {
    "name": "ipython",
    "version": 3
   },
   "file_extension": ".py",
   "mimetype": "text/x-python",
   "name": "python",
   "nbconvert_exporter": "python",
   "pygments_lexer": "ipython3",
   "version": "3.9.13"
  }
 },
 "nbformat": 4,
 "nbformat_minor": 5
}
