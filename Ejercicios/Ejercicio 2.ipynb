{
 "cells": [
  {
   "cell_type": "markdown",
   "id": "8c517ca9",
   "metadata": {},
   "source": [
    "# Ejercicio 2\n",
    "\n",
    "Crea un rdd llamado nameRDD2 : [['Ana','Bob'],['Karen']], usa map o flatmap para regresar:\n",
    "* \\# ans1: ['Ana', 'Bob', 'plus', 'Caren', 'plus']\n",
    "* \\# ans2: [['Ana', 'Bob', 'plus'], ['Caren', 'plus']]"
   ]
  },
  {
   "cell_type": "markdown",
   "id": "1a8347f7",
   "metadata": {},
   "source": [
    "## Importaciones y creacion se SparkSession y SparkContext"
   ]
  },
  {
   "cell_type": "code",
   "execution_count": 16,
   "id": "c1f7fb1f",
   "metadata": {},
   "outputs": [],
   "source": [
    "import findspark\n",
    "findspark.init()\n",
    "\n",
    "import pandas as pd\n",
    "import pyspark\n",
    "from pyspark.sql import SparkSession\n",
    "\n",
    "spark = SparkSession.builder.getOrCreate()\n",
    "sc = spark.sparkContext"
   ]
  },
  {
   "cell_type": "markdown",
   "id": "24262075",
   "metadata": {},
   "source": [
    "## Punto #1\n",
    "\n",
    "Crea un rdd llamado nameRDD2 : [['Ana','Bob'],['Karen']],"
   ]
  },
  {
   "cell_type": "code",
   "execution_count": 17,
   "id": "9b14cfd6",
   "metadata": {},
   "outputs": [
    {
     "data": {
      "text/plain": [
       "[['Ana', 'Bob'], ['Karen']]"
      ]
     },
     "execution_count": 17,
     "metadata": {},
     "output_type": "execute_result"
    }
   ],
   "source": [
    "nameRDD2 = sc.parallelize([['Ana','Bob'],['Karen']])\n",
    "nameRDD2.collect()"
   ]
  },
  {
   "cell_type": "markdown",
   "id": "1a9e99f6",
   "metadata": {},
   "source": [
    "## Punto #2\n",
    "\n",
    "usa map o flatmap para regresar:\n",
    "\n",
    "* \\# ans1: ['Ana', 'Bob', 'plus', 'Caren', 'plus']\n",
    "* \\# ans2: [['Ana', 'Bob', 'plus'], ['Caren', 'plus']]"
   ]
  },
  {
   "cell_type": "code",
   "execution_count": 18,
   "id": "1fcd6443",
   "metadata": {},
   "outputs": [
    {
     "data": {
      "text/plain": [
       "['Ana', 'Bob', 'plus', 'Karen', 'plus']"
      ]
     },
     "execution_count": 18,
     "metadata": {},
     "output_type": "execute_result"
    }
   ],
   "source": [
    "ans1 = nameRDD2.flatMap(lambda name: name + [\"plus\"])\n",
    "ans1.collect()"
   ]
  },
  {
   "cell_type": "code",
   "execution_count": 19,
   "id": "06012bb9",
   "metadata": {},
   "outputs": [
    {
     "data": {
      "text/plain": [
       "[['Ana', 'Bob', 'plus'], ['Karen', 'plus']]"
      ]
     },
     "execution_count": 19,
     "metadata": {},
     "output_type": "execute_result"
    }
   ],
   "source": [
    "ans2 = nameRDD2.map(lambda name: name + [\"plus\"])\n",
    "ans2.collect()"
   ]
  }
 ],
 "metadata": {
  "kernelspec": {
   "display_name": "Python 3 (ipykernel)",
   "language": "python",
   "name": "python3"
  },
  "language_info": {
   "codemirror_mode": {
    "name": "ipython",
    "version": 3
   },
   "file_extension": ".py",
   "mimetype": "text/x-python",
   "name": "python",
   "nbconvert_exporter": "python",
   "pygments_lexer": "ipython3",
   "version": "3.9.13"
  }
 },
 "nbformat": 4,
 "nbformat_minor": 5
}
