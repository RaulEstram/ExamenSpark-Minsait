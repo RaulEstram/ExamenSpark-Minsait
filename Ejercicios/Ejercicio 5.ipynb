{
 "cells": [
  {
   "cell_type": "markdown",
   "id": "84c4cf25",
   "metadata": {},
   "source": [
    "# Ejercicio 5\n",
    "\n",
    "Inicializa una sesión de spark en consola y coloca en una variable la información de cada archivo\n",
    "csv que se proporciona: \n",
    "* Realiza una unión para unir todos los pokemon de cada generación\n",
    "* Devuelve un conteo por generación y muestra el resultado en pantalla\n",
    "* Devuelve un conteo por Type_1 y muestra el resultado en pantalla\n",
    "* Devuelve un conteo por pokemon legendarios y muestra el resultado en pantalla\n",
    "* Devuelve el pokemon con más puntos de:\n",
    "    * Vida (hp)\n",
    "    * Ataque (attack)\n",
    "    * Defensa (defense)\n",
    "* Devuelve el pokemon con menos puntos de:\n",
    "    * Ataque especial (sp_attack)\n",
    "    * Defensa especial (sp_defense)\n",
    "    * Velocidad (speed)\n",
    "* Realiza un Join de la información de los pokemon y sus ventajas\n",
    "* Del resultado final, devuelve toda la información del pokemon, pero solo la información de las primeras 2 ventajas, las primeras 2 desventajas y el campo “sin_efecto”\n",
    "* Escribe el resultado en un archivo parquet pkmn_result__info.parquet"
   ]
  },
  {
   "cell_type": "markdown",
   "id": "aa2a6cf4",
   "metadata": {},
   "source": [
    "## Importaciones y creacion se SparkSession y SparkContext"
   ]
  },
  {
   "cell_type": "code",
   "execution_count": 2,
   "id": "2f45d110",
   "metadata": {},
   "outputs": [],
   "source": [
    "import findspark\n",
    "findspark.init()\n",
    "\n",
    "import pandas as pd\n",
    "import pyspark\n",
    "from pyspark.sql import SparkSession\n",
    "\n",
    "spark = SparkSession.builder.getOrCreate()\n",
    "sc = spark.sparkContext"
   ]
  },
  {
   "cell_type": "markdown",
   "id": "d8f0b3f5",
   "metadata": {},
   "source": [
    "# Punto #1\n",
    "coloca en una variable la información de cada archivo csv que se proporciona:"
   ]
  },
  {
   "cell_type": "code",
   "execution_count": 5,
   "id": "a93176ec",
   "metadata": {},
   "outputs": [],
   "source": [
    "\"\"\"\n",
    "Usaremos esta funcion de forma auxiliar para darle formato a los dataframes ya que \n",
    "se infiere que los numeros son String y arreglaremos este problema para evitar posibles\n",
    "errores al manipular los valores\n",
    "\"\"\"\n",
    "\n",
    "from pyspark.sql.types import FloatType\n",
    "from pyspark.sql.functions import regexp_replace\n",
    "\n",
    "\n",
    "def formatPkmnDataframe(path):\n",
    "    dataframe = spark.read.csv(path, header=True, inferSchema=True)\n",
    "    columnas = [\"hp\", \"attack\", \"defense\", \"sp_atk\", \"sp_def\", \"speed\"]\n",
    "    for columna in columnas: \n",
    "        dataframe = dataframe.withColumn(columna, regexp_replace(columna, \",\", \".\"))\n",
    "        dataframe = dataframe.withColumn(columna, dataframe[columna].cast(FloatType()))\n",
    "    return dataframe"
   ]
  },
  {
   "cell_type": "code",
   "execution_count": 6,
   "id": "21a124e0",
   "metadata": {},
   "outputs": [],
   "source": [
    "pkmn_gen_1 = formatPkmnDataframe(\"Data/pkmn_gen_1.csv\")\n",
    "pkmn_gen_2 = formatPkmnDataframe(\"Data/pkmn_gen_2.csv\")\n",
    "pkmn_gen_3 = formatPkmnDataframe(\"Data/pkmn_gen_3.csv\")\n",
    "pkmn_gen_4 = formatPkmnDataframe(\"Data/pkmn_gen_4.csv\")\n",
    "pkmn_gen_5 = formatPkmnDataframe(\"Data/pkmn_gen_5.csv\")\n",
    "pkmn_gen_6 = formatPkmnDataframe(\"Data/pkmn_gen_6.csv\")"
   ]
  },
  {
   "cell_type": "code",
   "execution_count": 7,
   "id": "7bdd3c5f",
   "metadata": {},
   "outputs": [
    {
     "name": "stdout",
     "output_type": "stream",
     "text": [
      "root\n",
      " |-- id: integer (nullable = true)\n",
      " |-- name: string (nullable = true)\n",
      " |-- type_1: string (nullable = true)\n",
      " |-- type_2: string (nullable = true)\n",
      " |-- hp: float (nullable = true)\n",
      " |-- attack: float (nullable = true)\n",
      " |-- defense: float (nullable = true)\n",
      " |-- sp_atk: float (nullable = true)\n",
      " |-- sp_def: float (nullable = true)\n",
      " |-- speed: float (nullable = true)\n",
      " |-- legendary: boolean (nullable = true)\n",
      "\n"
     ]
    }
   ],
   "source": [
    "pkmn_gen_1.printSchema()"
   ]
  },
  {
   "cell_type": "markdown",
   "id": "60f85559",
   "metadata": {},
   "source": [
    "## Punto #2\n",
    "Realiza una unión para unir todos los pokemon de cada generación\n"
   ]
  },
  {
   "cell_type": "code",
   "execution_count": 9,
   "id": "553ea0a8",
   "metadata": {},
   "outputs": [
    {
     "name": "stdout",
     "output_type": "stream",
     "text": [
      "+---+--------------------+------+------+----+------+-------+------+------+-----+---------+\n",
      "| id|                name|type_1|type_2|  hp|attack|defense|sp_atk|sp_def|speed|legendary|\n",
      "+---+--------------------+------+------+----+------+-------+------+------+-----+---------+\n",
      "|  1|           Bulbasaur| Grass|Poison|45.0|  49.0|   49.0|  65.0|  65.0| 45.0|    false|\n",
      "|  2|             Ivysaur| Grass|Poison|60.0|  62.0|   63.0|  80.0|  80.0| 60.0|    false|\n",
      "|  3|            Venusaur| Grass|Poison|80.0|  82.0|   83.0| 100.0| 100.0| 80.0|    false|\n",
      "|  3|VenusaurMega Venu...| Grass|Poison|80.0| 100.0|  123.0| 122.0| 120.0| 80.0|    false|\n",
      "|  4|          Charmander|  Fire|  null|39.0|  52.0|   43.0|  60.0|  50.0| 65.0|    false|\n",
      "+---+--------------------+------+------+----+------+-------+------+------+-----+---------+\n",
      "only showing top 5 rows\n",
      "\n"
     ]
    }
   ],
   "source": [
    "from functools import reduce\n",
    "from pyspark.sql import DataFrame\n",
    "\n",
    "all_pkmn = [pkmn_gen_1, pkmn_gen_2, pkmn_gen_3, pkmn_gen_4, pkmn_gen_5, pkmn_gen_6]\n",
    "\n",
    "# Utilizamos reduce para unir todos los DataFrames en uno solo\n",
    "all_pkmn = reduce(DataFrame.union, all_pkmn)\n",
    "\n",
    "all_pkmn.show(5)"
   ]
  },
  {
   "cell_type": "markdown",
   "id": "472be05e",
   "metadata": {},
   "source": [
    "## Punto #3\n",
    "Devuelve un conteo por generación y muestra el resultado en pantalla"
   ]
  },
  {
   "cell_type": "code",
   "execution_count": 11,
   "id": "bc3bd189",
   "metadata": {},
   "outputs": [
    {
     "name": "stdout",
     "output_type": "stream",
     "text": [
      "Existen 166 pokemon en la 1° generacion\n",
      "Existen 106 pokemon en la 2° generacion\n",
      "Existen 160 pokemon en la 3° generacion\n",
      "Existen 121 pokemon en la 4° generacion\n",
      "Existen 165 pokemon en la 5° generacion\n",
      "Existen 82 pokemon en la 6° generacion\n"
     ]
    }
   ],
   "source": [
    "print(\"Existen {} pokemon en la 1° generacion\".format(pkmn_gen_1.count()))\n",
    "print(\"Existen {} pokemon en la 2° generacion\".format(pkmn_gen_2.count()))\n",
    "print(\"Existen {} pokemon en la 3° generacion\".format(pkmn_gen_3.count()))\n",
    "print(\"Existen {} pokemon en la 4° generacion\".format(pkmn_gen_4.count()))\n",
    "print(\"Existen {} pokemon en la 5° generacion\".format(pkmn_gen_5.count()))\n",
    "print(\"Existen {} pokemon en la 6° generacion\".format(pkmn_gen_6.count()))"
   ]
  },
  {
   "cell_type": "markdown",
   "id": "859d7722",
   "metadata": {},
   "source": [
    "## Punto #4\n",
    "Devuelve un conteo por Type_1 y muestra el resultado en pantalla"
   ]
  },
  {
   "cell_type": "code",
   "execution_count": 19,
   "id": "4f992819",
   "metadata": {},
   "outputs": [
    {
     "name": "stdout",
     "output_type": "stream",
     "text": [
      "Cantidad de pokemon por tipo de la generacion 1 a la 6\n",
      "+--------+--------+\n",
      "|  type_1|Cantidad|\n",
      "+--------+--------+\n",
      "|   Water|     112|\n",
      "|  Poison|      28|\n",
      "|    Rock|      44|\n",
      "|     Ice|      24|\n",
      "|   Ghost|      32|\n",
      "| Psychic|      57|\n",
      "|  Dragon|      32|\n",
      "|     Bug|      69|\n",
      "|Electric|      44|\n",
      "|    Fire|      52|\n",
      "|  Ground|      32|\n",
      "|Fighting|      27|\n",
      "|   Grass|      70|\n",
      "|  Normal|     100|\n",
      "|   Steel|      27|\n",
      "|   Fairy|      15|\n",
      "|    Dark|      31|\n",
      "|  Flying|       4|\n",
      "+--------+--------+\n",
      "\n"
     ]
    }
   ],
   "source": [
    "from pyspark.sql.functions import count\n",
    "print(\"Cantidad de pokemon por tipo de la generacion 1 a la 6\")\n",
    "pkmn_type1 = all_pkmn.groupBy(\"type_1\").agg(count(\"type_1\").alias(\"Cantidad\")).show()"
   ]
  },
  {
   "cell_type": "markdown",
   "id": "7fcc8fcd",
   "metadata": {},
   "source": [
    "## Punto #5\n",
    "Devuelve un conteo por pokemon legendarios y muestra el resultado en pantalla"
   ]
  },
  {
   "cell_type": "code",
   "execution_count": 28,
   "id": "dd83cd2a",
   "metadata": {},
   "outputs": [
    {
     "name": "stdout",
     "output_type": "stream",
     "text": [
      "Entre la generacion 1 a la 6 hay un total de 65 Legentarios\n"
     ]
    }
   ],
   "source": [
    "cantidad = all_pkmn.filter(all_pkmn[\"legendary\"] == True).count()\n",
    "print(\"Entre la generacion 1 a la 6 hay un total de {} Legentarios\".format(cantidad))"
   ]
  },
  {
   "cell_type": "markdown",
   "id": "2f9cd2c0",
   "metadata": {},
   "source": [
    "## Punto #6\n",
    "Devuelve el pokemon con más puntos de:\n",
    "* Vida (hp)\n",
    "* Ataque (attack)\n",
    "* Defensa (defense)\n",
    "\n",
    "> **En este caso usamos show para mostrar el que tiene mas puntos de una manera mas bonita, pero se puede usar .first() para obtener unicamente el primero**"
   ]
  },
  {
   "cell_type": "code",
   "execution_count": 47,
   "id": "bd4a1b01",
   "metadata": {},
   "outputs": [
    {
     "name": "stdout",
     "output_type": "stream",
     "text": [
      "Pokemon con más puntos de vida\n",
      "+---+-------+------+------+-----+------+-------+------+------+-----+---------+\n",
      "| id|   name|type_1|type_2|   hp|attack|defense|sp_atk|sp_def|speed|legendary|\n",
      "+---+-------+------+------+-----+------+-------+------+------+-----+---------+\n",
      "|242|Blissey|Normal|  null|255.0|  10.0|   10.0|  75.0| 135.0| 55.0|    false|\n",
      "+---+-------+------+------+-----+------+-------+------+------+-----+---------+\n",
      "only showing top 1 row\n",
      "\n",
      "Pokemon con más puntos de ataque\n",
      "+---+-------------------+-------+--------+-----+------+-------+------+------+-----+---------+\n",
      "| id|               name| type_1|  type_2|   hp|attack|defense|sp_atk|sp_def|speed|legendary|\n",
      "+---+-------------------+-------+--------+-----+------+-------+------+------+-----+---------+\n",
      "|150|MewtwoMega Mewtwo X|Psychic|Fighting|106.0| 190.0|  100.0| 154.0| 100.0|130.0|     true|\n",
      "+---+-------------------+-------+--------+-----+------+-------+------+------+-----+---------+\n",
      "only showing top 1 row\n",
      "\n",
      "Pokemon con más puntos de defensa\n",
      "+---+-------------------+------+------+----+------+-------+------+------+-----+---------+\n",
      "| id|               name|type_1|type_2|  hp|attack|defense|sp_atk|sp_def|speed|legendary|\n",
      "+---+-------------------+------+------+----+------+-------+------+------+-----+---------+\n",
      "|208|SteelixMega Steelix| Steel|Ground|75.0| 125.0|  230.0|  55.0|  95.0| 30.0|    false|\n",
      "+---+-------------------+------+------+----+------+-------+------+------+-----+---------+\n",
      "only showing top 1 row\n",
      "\n"
     ]
    }
   ],
   "source": [
    "from pyspark.sql.functions import desc\n",
    "\n",
    "print(\"Pokemon con más puntos de vida\")\n",
    "all_pkmn.orderBy(desc(\"hp\")).show(1)\n",
    "\n",
    "print(\"Pokemon con más puntos de ataque\")\n",
    "all_pkmn.orderBy(desc(\"attack\")).show(1)\n",
    "\n",
    "print(\"Pokemon con más puntos de defensa\")\n",
    "all_pkmn.orderBy(desc(\"defense\")).show(1)"
   ]
  },
  {
   "cell_type": "markdown",
   "id": "7d6f1d97",
   "metadata": {},
   "source": [
    "## Punto #7\n",
    "\n",
    "\n",
    "Devuelve el pokemon con menos puntos de:\n",
    "* Ataque especial (sp_attack)\n",
    "* Defensa especial (sp_defense)\n",
    "* Velocidad (speed)\n",
    "\n",
    "> **En este caso usamos show para mostrar el que tiene mas puntos de una manera mas bonita, pero se puede usar .first() para obtener unicamente el primero**"
   ]
  },
  {
   "cell_type": "code",
   "execution_count": 50,
   "id": "841b6e71",
   "metadata": {},
   "outputs": [
    {
     "name": "stdout",
     "output_type": "stream",
     "text": [
      "Pokemon con menos puntos de ataque especial\n",
      "+---+------+------+------+----+------+-------+------+------+-----+---------+\n",
      "| id|  name|type_1|type_2|  hp|attack|defense|sp_atk|sp_def|speed|legendary|\n",
      "+---+------+------+------+----+------+-------+------+------+-----+---------+\n",
      "|438|Bonsly|  Rock|  null|50.0|  80.0|   95.0|  10.0|  45.0| 10.0|    false|\n",
      "+---+------+------+------+----+------+-------+------+------+-----+---------+\n",
      "only showing top 1 row\n",
      "\n",
      "Pokemon con menos puntos de defensa especial\n",
      "+---+--------+------+------+----+------+-------+------+------+-----+---------+\n",
      "| id|    name|type_1|type_2|  hp|attack|defense|sp_atk|sp_def|speed|legendary|\n",
      "+---+--------+------+------+----+------+-------+------+------+-----+---------+\n",
      "|318|Carvanha| Water|  Dark|45.0|  90.0|   20.0|  65.0|  20.0| 65.0|    false|\n",
      "+---+--------+------+------+----+------+-------+------+------+-----+---------+\n",
      "only showing top 1 row\n",
      "\n",
      "Pokemon con menos puntos de valocidad\n",
      "+---+-------+------+------+----+------+-------+------+------+-----+---------+\n",
      "| id|   name|type_1|type_2|  hp|attack|defense|sp_atk|sp_def|speed|legendary|\n",
      "+---+-------+------+------+----+------+-------+------+------+-----+---------+\n",
      "|213|Shuckle|   Bug|  Rock|20.0|  10.0|  230.0|  10.0| 230.0|  5.0|    false|\n",
      "+---+-------+------+------+----+------+-------+------+------+-----+---------+\n",
      "only showing top 1 row\n",
      "\n"
     ]
    }
   ],
   "source": [
    "print(\"Pokemon con menos puntos de ataque especial\")\n",
    "all_pkmn.orderBy(\"sp_atk\").show(1)\n",
    "\n",
    "print(\"Pokemon con menos puntos de defensa especial\")\n",
    "all_pkmn.orderBy(\"sp_def\").show(1)\n",
    "\n",
    "print(\"Pokemon con menos puntos de valocidad\")\n",
    "all_pkmn.orderBy(\"speed\").show(1)"
   ]
  },
  {
   "cell_type": "markdown",
   "id": "0b3efd3a",
   "metadata": {},
   "source": [
    "## Punto #8\n",
    "\n",
    "Realiza un Join de la información de los pokemon y sus ventajas"
   ]
  },
  {
   "cell_type": "code",
   "execution_count": 74,
   "id": "1219befe",
   "metadata": {},
   "outputs": [],
   "source": [
    "from pyspark.sql.types import StructType, StructField, StringType\n",
    "\n",
    "schema = StructType([\n",
    "    StructField(\"tipo\", StringType(), True),\n",
    "    StructField(\"ventaja_1\", StringType(), True),\n",
    "    StructField(\"ventaja_2\", StringType(), True),\n",
    "    StructField(\"ventaja_3\", StringType(), True),\n",
    "    StructField(\"ventaja_4\", StringType(), True),\n",
    "    StructField(\"ventaja_5\", StringType(), True),\n",
    "    StructField(\"desventaja_1\", StringType(), True),\n",
    "    StructField(\"desventaja_2\", StringType(), True),\n",
    "    StructField(\"desventaja_3\", StringType(), True),\n",
    "    StructField(\"desventaja_4\", StringType(), True),\n",
    "    StructField(\"desventaja_5\", StringType(), True),\n",
    "    StructField(\"sin_efecto\", StringType(), True),\n",
    "])\n",
    "\n",
    "# Leer el archivo Excel con pandas\n",
    "df_pandas = pd.read_excel(\"Data/ventajas.xlsx\")\n",
    "\n",
    "# Convertir el DataFrame de pandas a DataFrame de PySpark\n",
    "df_spark = spark.createDataFrame(df_pandas, schema=schema)\n",
    "\n",
    "# Realizar el Join\n",
    "\n",
    "full_data = all_pkmn.join(df_spark, all_pkmn[\"type_1\"] == df_spark[\"tipo\"])"
   ]
  },
  {
   "cell_type": "markdown",
   "id": "7c5b82e4",
   "metadata": {},
   "source": [
    "## Punto #9\n",
    "Del resultado final, devuelve toda la información del pokemon, pero solo la información de las primeras 2 ventajas, las primeras 2 desventajas y el campo “sin_efecto”\n",
    "\n",
    "> **Por efectos practicos se mostrara una version resumida de la informacion del pokemon para que se pueda apreciar correctamente**"
   ]
  },
  {
   "cell_type": "code",
   "execution_count": 82,
   "id": "1be5e90f",
   "metadata": {},
   "outputs": [
    {
     "name": "stdout",
     "output_type": "stream",
     "text": [
      "+---+--------------------+-------+---------+---------+------------+------------+----------+\n",
      "| id|                name| type_1|ventaja_1|ventaja_2|desventaja_1|desventaja_2|sin_efecto|\n",
      "+---+--------------------+-------+---------+---------+------------+------------+----------+\n",
      "| 63|                Abra|Psychic| Luchador|   Veneno|    Psíquico|       Acero| Siniestro|\n",
      "|617|            Accelgor|    Bug|   Planta| Psíquico|       Fuego|       Lucha|   Ninguno|\n",
      "|681|AegislashBlade Forme|  Steel|    Hielo|     Roca|       Fuego|        Agua|   Ninguno|\n",
      "|681|AegislashShield F...|  Steel|    Hielo|     Roca|       Fuego|        Agua|   Ninguno|\n",
      "|142|          Aerodactyl|   Rock|    Fuego|    Hielo|       Lucha|      Tierra|   Ninguno|\n",
      "|142|AerodactylMega Ae...|   Rock|    Fuego|    Hielo|       Lucha|      Tierra|   Ninguno|\n",
      "|306|              Aggron|  Steel|    Hielo|     Roca|       Fuego|        Agua|   Ninguno|\n",
      "|306|   AggronMega Aggron|  Steel|    Hielo|     Roca|       Fuego|        Agua|   Ninguno|\n",
      "|190|               Aipom| Normal|  Ninguna|  Ninguna|        Roca|       Acero|  Fantasma|\n",
      "| 65|            Alakazam|Psychic| Luchador|   Veneno|    Psíquico|       Acero| Siniestro|\n",
      "+---+--------------------+-------+---------+---------+------------+------------+----------+\n",
      "only showing top 10 rows\n",
      "\n"
     ]
    }
   ],
   "source": [
    "resultado = full_data.select(\"id\", \"name\",\"type_1\", \"type_2\", \"hp\",\"attack\",\"defense\",\"sp_atk\",\"sp_def\",\"speed\",\"legendary\", \"ventaja_1\", \"ventaja_2\", \"desventaja_1\", \"desventaja_2\", \"sin_efecto\").orderBy(\"name\")\n",
    "\n",
    "\n",
    "full_data.select(\"id\", \"name\",\"type_1\" , \"ventaja_1\", \"ventaja_2\", \"desventaja_1\", \"desventaja_2\", \"sin_efecto\").orderBy(\"name\").show(10)"
   ]
  },
  {
   "cell_type": "markdown",
   "id": "c978ea12",
   "metadata": {},
   "source": [
    "## Punto #10\n",
    "Escribe el resultado en un archivo parquet pkmn_result__info.parquet"
   ]
  },
  {
   "cell_type": "code",
   "execution_count": 88,
   "id": "6f800b5b",
   "metadata": {},
   "outputs": [],
   "source": [
    "# Guardar como CSV\n",
    "resultado.write.csv(\"pkmn_result__info.csv\", sep=\",\", header=True, mode=\"overwrite\")\n",
    "\n",
    "# Guardar como parquet\n",
    "resultado.write.format(\"parquet\").save(\"pkmn_result__info.parquet\")\n"
   ]
  }
 ],
 "metadata": {
  "kernelspec": {
   "display_name": "Python 3 (ipykernel)",
   "language": "python",
   "name": "python3"
  },
  "language_info": {
   "codemirror_mode": {
    "name": "ipython",
    "version": 3
   },
   "file_extension": ".py",
   "mimetype": "text/x-python",
   "name": "python",
   "nbconvert_exporter": "python",
   "pygments_lexer": "ipython3",
   "version": "3.9.13"
  }
 },
 "nbformat": 4,
 "nbformat_minor": 5
}
