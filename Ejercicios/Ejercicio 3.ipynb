{
 "cells": [
  {
   "cell_type": "markdown",
   "id": "3cb73fc9",
   "metadata": {},
   "source": [
    "# Ejercicio 3\n",
    "\n",
    "Dadas las siguientes listas, crea un RDD para cada una y devuelve de los 2 RDDs su:\n",
    "* Union\n",
    "* Intersección\n",
    "* Cartesiano\n",
    "\n",
    "Listas:\n",
    "* nameRDD1 = sc.parallelize(['Ana','Bob'])\n",
    "* nameRDD2 = sc.parallelize(['Bob','Caren','Deric'])"
   ]
  },
  {
   "cell_type": "markdown",
   "id": "a5555451",
   "metadata": {},
   "source": [
    "## Importaciones y creacion se SparkSession y SparkContext\n"
   ]
  },
  {
   "cell_type": "code",
   "execution_count": 9,
   "id": "42aa4721",
   "metadata": {},
   "outputs": [],
   "source": [
    "import findspark\n",
    "findspark.init()\n",
    "\n",
    "import pandas as pd\n",
    "import pyspark\n",
    "from pyspark.sql import SparkSession\n",
    "\n",
    "spark = SparkSession.builder.getOrCreate()\n",
    "sc = spark.sparkContext"
   ]
  },
  {
   "cell_type": "markdown",
   "id": "e351e38c",
   "metadata": {},
   "source": [
    "# Punto #1\n",
    "Creacion de las siguietne listas:\n",
    "* nameRDD1 = sc.parallelize(['Ana','Bob'])\n",
    "* nameRDD2 = sc.parallelize(['Bob','Caren','Deric'])"
   ]
  },
  {
   "cell_type": "code",
   "execution_count": 10,
   "id": "0c793406",
   "metadata": {},
   "outputs": [],
   "source": [
    "nameRDD1 = sc.parallelize(['Ana','Bob'])\n",
    "nameRDD2 = sc.parallelize(['Bob','Caren','Deric'])"
   ]
  },
  {
   "cell_type": "markdown",
   "id": "57f5091a",
   "metadata": {},
   "source": [
    "## Punto #2\n",
    "\n",
    "devuelve de los 2 RDDs su:\n",
    "\n",
    "* Union\n",
    "* Intersección\n",
    "* Cartesiano"
   ]
  },
  {
   "cell_type": "markdown",
   "id": "6dc3a02a",
   "metadata": {},
   "source": [
    "### Union"
   ]
  },
  {
   "cell_type": "code",
   "execution_count": 11,
   "id": "7288e832",
   "metadata": {},
   "outputs": [
    {
     "data": {
      "text/plain": [
       "['Ana', 'Bob', 'Bob', 'Caren', 'Deric']"
      ]
     },
     "execution_count": 11,
     "metadata": {},
     "output_type": "execute_result"
    }
   ],
   "source": [
    "nameRDD1.union(nameRDD2).collect()"
   ]
  },
  {
   "cell_type": "markdown",
   "id": "dec90a72",
   "metadata": {},
   "source": [
    "### Intersección"
   ]
  },
  {
   "cell_type": "code",
   "execution_count": 12,
   "id": "a3639f61",
   "metadata": {},
   "outputs": [
    {
     "data": {
      "text/plain": [
       "['Bob']"
      ]
     },
     "execution_count": 12,
     "metadata": {},
     "output_type": "execute_result"
    }
   ],
   "source": [
    "nameRDD1.intersection(nameRDD2).collect()"
   ]
  },
  {
   "cell_type": "markdown",
   "id": "e07f194d",
   "metadata": {},
   "source": [
    "### Cartesiano"
   ]
  },
  {
   "cell_type": "code",
   "execution_count": 13,
   "id": "d1019812",
   "metadata": {},
   "outputs": [
    {
     "data": {
      "text/plain": [
       "[('Ana', 'Bob'),\n",
       " ('Ana', 'Caren'),\n",
       " ('Ana', 'Deric'),\n",
       " ('Bob', 'Bob'),\n",
       " ('Bob', 'Caren'),\n",
       " ('Bob', 'Deric')]"
      ]
     },
     "execution_count": 13,
     "metadata": {},
     "output_type": "execute_result"
    }
   ],
   "source": [
    "nameRDD1.cartesian(nameRDD2).collect()"
   ]
  }
 ],
 "metadata": {
  "kernelspec": {
   "display_name": "Python 3 (ipykernel)",
   "language": "python",
   "name": "python3"
  },
  "language_info": {
   "codemirror_mode": {
    "name": "ipython",
    "version": 3
   },
   "file_extension": ".py",
   "mimetype": "text/x-python",
   "name": "python",
   "nbconvert_exporter": "python",
   "pygments_lexer": "ipython3",
   "version": "3.9.13"
  }
 },
 "nbformat": 4,
 "nbformat_minor": 5
}
