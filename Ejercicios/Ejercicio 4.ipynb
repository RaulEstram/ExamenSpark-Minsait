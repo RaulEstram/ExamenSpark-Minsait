{
 "cells": [
  {
   "cell_type": "markdown",
   "id": "0d9c5a9b",
   "metadata": {},
   "source": [
    "# Ejercicio 4\n",
    "\n",
    "Dada la siguiente lista, crea un RDD y realiza lo siguiente:\n",
    "* Namelist = [(\"Hugo\",10),(\"Erick\",20),(\"Biel\",30),(\"Antonio\",15),(\"Manuel\",25),(\"Francisco\",15),\n",
    "(\"Hugo\",20),(\"Manuel\",30),(\"Erick\",20),(\"Hugo\",10),(\"Francisco\",30),(\"Erick\",20),(\"Sofía\",20),\n",
    "(\"Biel\",30),(\"Antonio\",15),(\"Biel\",10),(\"Sofía\",20),(\"Erick\",15),(\"Antonio\",20),(\"Francisco\",20)\n",
    ",(\"Manuel\",20),(\"Hugo\",30)]\n",
    "\n",
    "1. Calcula la suma de las edades de acuerdo a cada nombre usando groupbykey / reducebykey /foldbykey / combinebykey\n",
    "2. Calcula el promedio de edad de cada nombre"
   ]
  },
  {
   "cell_type": "markdown",
   "id": "de0741e4",
   "metadata": {},
   "source": [
    "## Importaciones y creacion se SparkSession y SparkContext\n"
   ]
  },
  {
   "cell_type": "code",
   "execution_count": 1,
   "id": "44d58908",
   "metadata": {},
   "outputs": [],
   "source": [
    "import findspark\n",
    "findspark.init()\n",
    "\n",
    "import pandas as pd\n",
    "import pyspark\n",
    "from pyspark.sql import SparkSession\n",
    "\n",
    "spark = SparkSession.builder.getOrCreate()\n",
    "sc = spark.sparkContext"
   ]
  },
  {
   "cell_type": "markdown",
   "id": "6500bc7e",
   "metadata": {},
   "source": [
    "## Punto #1\n",
    "\n",
    "Dada la siguiente lista, crea un RDD:\n",
    "\n",
    "* Namelist = [(\"Hugo\",10),(\"Erick\",20),(\"Biel\",30),(\"Antonio\",15),(\"Manuel\",25),(\"Francisco\",15), (\"Hugo\",20),(\"Manuel\",30),(\"Erick\",20),(\"Hugo\",10),(\"Francisco\",30),(\"Erick\",20),(\"Sofía\",20), (\"Biel\",30),(\"Antonio\",15),(\"Biel\",10),(\"Sofía\",20),(\"Erick\",15),(\"Antonio\",20),(\"Francisco\",20) ,(\"Manuel\",20),(\"Hugo\",30)]"
   ]
  },
  {
   "cell_type": "code",
   "execution_count": 2,
   "id": "75900595",
   "metadata": {},
   "outputs": [],
   "source": [
    "nameList = [(\"Hugo\",10),(\"Erick\",20),(\"Biel\",30),(\"Antonio\",15),(\"Manuel\",25),(\"Francisco\",15), (\"Hugo\",20),(\"Manuel\",30),(\"Erick\",20),(\"Hugo\",10),(\"Francisco\",30),(\"Erick\",20),(\"Sofía\",20), (\"Biel\",30),(\"Antonio\",15),(\"Biel\",10),(\"Sofía\",20),(\"Erick\",15),(\"Antonio\",20),(\"Francisco\",20) ,(\"Manuel\",20),(\"Hugo\",30)]\n",
    "\n",
    "nameRDD = sc.parallelize(nameList)"
   ]
  },
  {
   "cell_type": "markdown",
   "id": "6dc1b5c8",
   "metadata": {},
   "source": [
    "## Punto #2\n",
    "\n",
    "Calcula la suma de las edades de acuerdo a cada nombre usando groupbykey / reducebykey / foldbykey / combinebykey"
   ]
  },
  {
   "cell_type": "markdown",
   "id": "d3181e35",
   "metadata": {},
   "source": [
    "### groupByKey"
   ]
  },
  {
   "cell_type": "code",
   "execution_count": 3,
   "id": "27cb8265",
   "metadata": {},
   "outputs": [
    {
     "data": {
      "text/plain": [
       "[('Sofía', 40),\n",
       " ('Biel', 70),\n",
       " ('Manuel', 75),\n",
       " ('Hugo', 70),\n",
       " ('Erick', 75),\n",
       " ('Antonio', 50),\n",
       " ('Francisco', 65)]"
      ]
     },
     "execution_count": 3,
     "metadata": {},
     "output_type": "execute_result"
    }
   ],
   "source": [
    "nameGroupByKey = nameRDD.groupByKey().mapValues(lambda edades: sum(edades))\n",
    "nameGroupByKey.collect()"
   ]
  },
  {
   "cell_type": "markdown",
   "id": "694efc1b",
   "metadata": {},
   "source": [
    "###  ReduceByKey"
   ]
  },
  {
   "cell_type": "code",
   "execution_count": 11,
   "id": "fa2ded96",
   "metadata": {},
   "outputs": [
    {
     "data": {
      "text/plain": [
       "[('Sofía', 40),\n",
       " ('Biel', 70),\n",
       " ('Manuel', 75),\n",
       " ('Hugo', 70),\n",
       " ('Erick', 75),\n",
       " ('Antonio', 50),\n",
       " ('Francisco', 65)]"
      ]
     },
     "execution_count": 11,
     "metadata": {},
     "output_type": "execute_result"
    }
   ],
   "source": [
    "nameReduceByKey = nameRDD.reduceByKey(lambda value1, value2: value1 + value2)\n",
    "nameReduceByKey.collect()"
   ]
  },
  {
   "cell_type": "markdown",
   "id": "1ec11634",
   "metadata": {},
   "source": [
    "### foldByKey"
   ]
  },
  {
   "cell_type": "code",
   "execution_count": 17,
   "id": "fe248ed3",
   "metadata": {},
   "outputs": [
    {
     "data": {
      "text/plain": [
       "[('Sofía', 40),\n",
       " ('Biel', 70),\n",
       " ('Manuel', 75),\n",
       " ('Hugo', 70),\n",
       " ('Erick', 75),\n",
       " ('Antonio', 50),\n",
       " ('Francisco', 65)]"
      ]
     },
     "execution_count": 17,
     "metadata": {},
     "output_type": "execute_result"
    }
   ],
   "source": [
    "nameFoldByKey = nameRDD.foldByKey(0, lambda value1, value2: value1 + value2)\n",
    "nameFoldByKey.collect()"
   ]
  },
  {
   "cell_type": "markdown",
   "id": "db163e4e",
   "metadata": {},
   "source": [
    "### combineByKey"
   ]
  },
  {
   "cell_type": "code",
   "execution_count": 10,
   "id": "db45b406",
   "metadata": {},
   "outputs": [
    {
     "data": {
      "text/plain": [
       "[('Sofía', 40),\n",
       " ('Biel', 70),\n",
       " ('Manuel', 75),\n",
       " ('Hugo', 70),\n",
       " ('Erick', 75),\n",
       " ('Antonio', 50),\n",
       " ('Francisco', 65)]"
      ]
     },
     "execution_count": 10,
     "metadata": {},
     "output_type": "execute_result"
    }
   ],
   "source": [
    "# Función para como tratar los values\n",
    "def createCombiner(value):\n",
    "    return value\n",
    "\n",
    "# Función de que hacer con los valores de una key\n",
    "def mergeValues(acc, value):\n",
    "    return acc + value\n",
    "\n",
    "# Función de que hacer con cada elemento/tupla/agrupacion\n",
    "def mergeCombiners(acc1, acc2):\n",
    "    return acc1 + acc2\n",
    "\n",
    "# Calcular la suma de las edades para cada nombre utilizando combineByKey()\n",
    "nameSum = nameRDD.combineByKey(createCombiner, mergeValues, mergeCombiners)\n",
    "# Ver los resultados\n",
    "nameSum.collect()"
   ]
  },
  {
   "cell_type": "markdown",
   "id": "898c8ea4",
   "metadata": {},
   "source": [
    "## Punto 3\n",
    "\n",
    "Calcula el promedio de edad de cada nombre"
   ]
  },
  {
   "cell_type": "code",
   "execution_count": 9,
   "id": "afb9153e",
   "metadata": {},
   "outputs": [
    {
     "data": {
      "text/plain": [
       "[('Sofía', 20),\n",
       " ('Biel', 23.333333333333332),\n",
       " ('Manuel', 25),\n",
       " ('Hugo', 17.5),\n",
       " ('Erick', 18.75),\n",
       " ('Antonio', 16.666666666666668),\n",
       " ('Francisco', 21.666666666666668)]"
      ]
     },
     "execution_count": 9,
     "metadata": {},
     "output_type": "execute_result"
    }
   ],
   "source": [
    "nameAvg = nameRDD.groupByKey().mapValues(lambda edades: mean(edades))\n",
    "nameAvg.collect()"
   ]
  }
 ],
 "metadata": {
  "kernelspec": {
   "display_name": "Python 3 (ipykernel)",
   "language": "python",
   "name": "python3"
  },
  "language_info": {
   "codemirror_mode": {
    "name": "ipython",
    "version": 3
   },
   "file_extension": ".py",
   "mimetype": "text/x-python",
   "name": "python",
   "nbconvert_exporter": "python",
   "pygments_lexer": "ipython3",
   "version": "3.9.13"
  }
 },
 "nbformat": 4,
 "nbformat_minor": 5
}
